{
    "cells": [
        {
            "metadata": {
                "collapsed": true
            },
            "cell_type": "code",
            "source": "from distutils.core import setup\n\nwith open('requirements.txt') as f:\n    requires = f.read().splitlines()\n\nsetup(\n    name='ibm-security-notebooks',\n    version='0.0.1',\n    author='Raymund Lin',\n    author_email='raymundl@tw.ibm.com',\n    packages=['pyclient'],\n    scripts=[],\n    url='https://github.com/ibm/ibm-security-notebooks',\n    license=\"Apache License 2.0\",\n    description='A python module for interacting with APIs of IBM Security products.',\n    long_description=open('README.md').read(),\n    long_description_content_type='text/markdown',\n    install_requires=requires,\n)\n",
            "execution_count": null,
            "outputs": []
        }
    ],
    "metadata": {
        "kernelspec": {
            "name": "python3",
            "display_name": "Python 3.7",
            "language": "python"
        },
        "language_info": {
            "name": "python",
            "version": "3.7.10",
            "mimetype": "text/x-python",
            "codemirror_mode": {
                "name": "ipython",
                "version": 3
            },
            "pygments_lexer": "ipython3",
            "nbconvert_exporter": "python",
            "file_extension": ".py"
        }
    },
    "nbformat": 4,
    "nbformat_minor": 1
}